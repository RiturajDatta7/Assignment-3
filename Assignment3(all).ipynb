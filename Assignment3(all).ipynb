{
  "nbformat": 4,
  "nbformat_minor": 0,
  "metadata": {
    "colab": {
      "provenance": []
    },
    "kernelspec": {
      "name": "python3",
      "display_name": "Python 3"
    },
    "language_info": {
      "name": "python"
    }
  },
  "cells": [
    {
      "cell_type": "markdown",
      "source": [
        "Assignment-3: Functions | Modules"
      ],
      "metadata": {
        "id": "VuN92vC7wDOS"
      }
    },
    {
      "cell_type": "markdown",
      "source": [
        "1) Write a Python function to sum all the numbers in a list."
      ],
      "metadata": {
        "id": "7P3vBbi6wHgh"
      }
    },
    {
      "cell_type": "code",
      "execution_count": 1,
      "metadata": {
        "colab": {
          "base_uri": "https://localhost:8080/"
        },
        "id": "AgEzkaxIv8e2",
        "outputId": "37c504cb-57c7-4339-9fc0-cc8a7e7bcf0b"
      },
      "outputs": [
        {
          "output_type": "stream",
          "name": "stdout",
          "text": [
            "The sum of the numbers in the list is: 20\n"
          ]
        }
      ],
      "source": [
        "def sum_list(numbers):\n",
        "    total = 0\n",
        "    for x in numbers:\n",
        "        total += x\n",
        "    return total\n",
        "\n",
        "sample_list = [8, 2, 3, 0, 7]\n",
        "result = sum_list(sample_list)\n",
        "print(\"The sum of the numbers in the list is:\", result)"
      ]
    },
    {
      "cell_type": "markdown",
      "source": [
        "2) Write a Python program to reverse a string."
      ],
      "metadata": {
        "id": "2OqLzn9WwpZV"
      }
    },
    {
      "cell_type": "code",
      "source": [
        "def reverse_string(string):\n",
        "    return string[::-1]\n",
        "\n",
        "sample_string = \"1234abcd\"\n",
        "result = reverse_string(sample_string)\n",
        "print(\"The reversed string is:\", result)"
      ],
      "metadata": {
        "colab": {
          "base_uri": "https://localhost:8080/"
        },
        "id": "ztwfblRTwsd8",
        "outputId": "a71d5530-4e88-4322-a852-4b35067714c2"
      },
      "execution_count": 2,
      "outputs": [
        {
          "output_type": "stream",
          "name": "stdout",
          "text": [
            "The reversed string is: dcba4321\n"
          ]
        }
      ]
    },
    {
      "cell_type": "markdown",
      "source": [
        "3) Write a Python function that accepts a string and calculate the number of upper case letters and lower case letters."
      ],
      "metadata": {
        "id": "NCwA41VozB4w"
      }
    },
    {
      "cell_type": "code",
      "source": [
        "def count_case_characters(input_string):\n",
        "    # Initialize counters for uppercase and lowercase characters\n",
        "    upper_count = 0\n",
        "    lower_count = 0\n",
        "\n",
        "    # Iterate through each character in the string\n",
        "    for char in input_string:\n",
        "        if char.isupper():\n",
        "            upper_count += 1\n",
        "        elif char.islower():\n",
        "            lower_count += 1\n",
        "\n",
        "    # Print the counts\n",
        "    print(\"No. of Upper case characters:\", upper_count)\n",
        "    print(\"No. of Lower case characters:\", lower_count)\n",
        "\n",
        "# Sample String\n",
        "sample_string = 'The quick Brow Fox'\n",
        "\n",
        "# Call the function to count the characters\n",
        "count_case_characters(sample_string)"
      ],
      "metadata": {
        "colab": {
          "base_uri": "https://localhost:8080/"
        },
        "id": "rXcB5l-XymBu",
        "outputId": "e731632c-f9f7-4f8f-936b-5ffc519394ba"
      },
      "execution_count": 3,
      "outputs": [
        {
          "output_type": "stream",
          "name": "stdout",
          "text": [
            "No. of Upper case characters: 3\n",
            "No. of Lower case characters: 12\n"
          ]
        }
      ]
    }
  ]
}
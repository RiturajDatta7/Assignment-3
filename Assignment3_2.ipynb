{
  "nbformat": 4,
  "nbformat_minor": 0,
  "metadata": {
    "colab": {
      "provenance": []
    },
    "kernelspec": {
      "name": "python3",
      "display_name": "Python 3"
    },
    "language_info": {
      "name": "python"
    }
  },
  "cells": [
    {
      "cell_type": "markdown",
      "source": [],
      "metadata": {
        "id": "oH-ZvqK1wVwy"
      }
    },
    {
      "cell_type": "markdown",
      "source": [
        "2) Write a Python program to reverse a string."
      ],
      "metadata": {
        "id": "XKmrNXcVwVnu"
      }
    },
    {
      "cell_type": "code",
      "execution_count": 1,
      "metadata": {
        "colab": {
          "base_uri": "https://localhost:8080/"
        },
        "id": "uI1YE3iAwSL4",
        "outputId": "acad608c-34b0-4511-e9d6-9e2f7955d971"
      },
      "outputs": [
        {
          "output_type": "stream",
          "name": "stdout",
          "text": [
            "The reversed string is: dcba4321\n"
          ]
        }
      ],
      "source": [
        "def reverse_string(string):\n",
        "    return string[::-1]\n",
        "\n",
        "sample_string = \"1234abcd\"\n",
        "result = reverse_string(sample_string)\n",
        "print(\"The reversed string is:\", result)"
      ]
    },
    {
      "cell_type": "code",
      "source": [],
      "metadata": {
        "id": "cSkB3vnqykg8"
      },
      "execution_count": null,
      "outputs": []
    }
  ]
}
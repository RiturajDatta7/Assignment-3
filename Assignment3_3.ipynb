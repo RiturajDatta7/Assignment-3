{
  "nbformat": 4,
  "nbformat_minor": 0,
  "metadata": {
    "colab": {
      "provenance": []
    },
    "kernelspec": {
      "name": "python3",
      "display_name": "Python 3"
    },
    "language_info": {
      "name": "python"
    }
  },
  "cells": [
    {
      "cell_type": "markdown",
      "source": [
        "Assignment-3: Functions | Modules"
      ],
      "metadata": {
        "id": "Qt_6CkPxy3P3"
      }
    },
    {
      "cell_type": "markdown",
      "source": [
        "3) Write a Python function that accepts a string and calculate the number of upper case letters and lower case letters."
      ],
      "metadata": {
        "id": "9uF6F6Cuy3Hm"
      }
    },
    {
      "cell_type": "code",
      "execution_count": 1,
      "metadata": {
        "colab": {
          "base_uri": "https://localhost:8080/"
        },
        "id": "5IN0QNpOyvdf",
        "outputId": "059b4692-0ec2-40c3-99de-e6adbd5785e7"
      },
      "outputs": [
        {
          "output_type": "stream",
          "name": "stdout",
          "text": [
            "No. of Upper case characters: 3\n",
            "No. of Lower case characters: 12\n"
          ]
        }
      ],
      "source": [
        "def count_case_characters(input_string):\n",
        "    # Initialize counters for uppercase and lowercase characters\n",
        "    upper_count = 0\n",
        "    lower_count = 0\n",
        "\n",
        "    # Iterate through each character in the string\n",
        "    for char in input_string:\n",
        "        if char.isupper():\n",
        "            upper_count += 1\n",
        "        elif char.islower():\n",
        "            lower_count += 1\n",
        "\n",
        "    # Print the counts\n",
        "    print(\"No. of Upper case characters:\", upper_count)\n",
        "    print(\"No. of Lower case characters:\", lower_count)\n",
        "\n",
        "# Sample String\n",
        "sample_string = 'The quick Brow Fox'\n",
        "\n",
        "# Call the function to count the characters\n",
        "count_case_characters(sample_string)"
      ]
    }
  ]
}
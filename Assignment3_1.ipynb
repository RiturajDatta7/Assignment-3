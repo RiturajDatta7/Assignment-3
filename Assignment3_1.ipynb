{
  "nbformat": 4,
  "nbformat_minor": 0,
  "metadata": {
    "colab": {
      "provenance": []
    },
    "kernelspec": {
      "name": "python3",
      "display_name": "Python 3"
    },
    "language_info": {
      "name": "python"
    }
  },
  "cells": [
    {
      "cell_type": "markdown",
      "source": [
        "Assignment-3: Functions | Modules"
      ],
      "metadata": {
        "id": "_L4sKZ8xuGky"
      }
    },
    {
      "cell_type": "markdown",
      "source": [
        "1) Write a Python function to sum all the numbers in a list."
      ],
      "metadata": {
        "id": "eOh0npTjuJjG"
      }
    },
    {
      "cell_type": "code",
      "source": [
        "def sum_list(numbers):\n",
        "    total = 0\n",
        "    for x in numbers:\n",
        "        total += x\n",
        "    return total\n",
        "\n",
        "sample_list = [8, 2, 3, 0, 7]\n",
        "result = sum_list(sample_list)\n",
        "print(\"The sum of the numbers in the list is:\", result)"
      ],
      "metadata": {
        "colab": {
          "base_uri": "https://localhost:8080/"
        },
        "id": "1SQECdVkuItk",
        "outputId": "46902ec7-8ece-41ae-f67e-0ac9b9241436"
      },
      "execution_count": 2,
      "outputs": [
        {
          "output_type": "stream",
          "name": "stdout",
          "text": [
            "The sum of the numbers in the list is: 20\n"
          ]
        }
      ]
    }
  ]
}